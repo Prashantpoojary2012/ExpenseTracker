{
 "cells": [
  {
   "cell_type": "code",
   "execution_count": null,
   "metadata": {},
   "outputs": [
    {
     "name": "stdout",
     "output_type": "stream",
     "text": [
      "Expense Tracker\n",
      "1 => Add Expense\n",
      "2 => View Expense\n",
      "3 => Track Expense\n",
      "4 => Save Expense\n",
      "5 => Exit\n",
      "User Select  4\n",
      "1 => Add Expense\n",
      "2 => View Expense\n",
      "3 => Track Expense\n",
      "4 => Save Expense\n",
      "5 => Exit\n"
     ]
    }
   ],
   "source": [
    "def main():\n",
    "    print('Expense Tracker')\n",
    "    while True:\n",
    "        print(\"1 => Add Expense\")\n",
    "        print(\"2 => View Expense\")\n",
    "        print(\"3 => Track Expense\")\n",
    "        print(\"4 => Save Expense\")\n",
    "        print(\"5 => Exit\")\n",
    "\n",
    "        userInput = input('Please enter your choice: ')\n",
    "        print('User Select ',userInput)\n",
    "\n",
    "        \n",
    "\n",
    "\n",
    "main();"
   ]
  }
 ],
 "metadata": {
  "kernelspec": {
   "display_name": "Python 3",
   "language": "python",
   "name": "python3"
  },
  "language_info": {
   "codemirror_mode": {
    "name": "ipython",
    "version": 3
   },
   "file_extension": ".py",
   "mimetype": "text/x-python",
   "name": "python",
   "nbconvert_exporter": "python",
   "pygments_lexer": "ipython3",
   "version": "3.11.4"
  }
 },
 "nbformat": 4,
 "nbformat_minor": 2
}
